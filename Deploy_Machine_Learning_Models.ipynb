{
  "nbformat": 4,
  "nbformat_minor": 0,
  "metadata": {
    "colab": {
      "name": "Deploy-Machine-Learning-Models.ipynb",
      "provenance": [],
      "include_colab_link": true
    },
    "kernelspec": {
      "name": "python3",
      "display_name": "Python 3"
    }
  },
  "cells": [
    {
      "cell_type": "markdown",
      "metadata": {
        "id": "view-in-github",
        "colab_type": "text"
      },
      "source": [
        "<a href=\"https://colab.research.google.com/github/vilsonrodrigues/DataScience/blob/master/Deploy_Machine_Learning_Models.ipynb\" target=\"_parent\"><img src=\"https://colab.research.google.com/assets/colab-badge.svg\" alt=\"Open In Colab\"/></a>"
      ]
    },
    {
      "cell_type": "markdown",
      "metadata": {
        "id": "9yyCyMGSPoia",
        "colab_type": "text"
      },
      "source": [
        "Import Library"
      ]
    },
    {
      "cell_type": "code",
      "metadata": {
        "id": "dAQYIRUePLu6",
        "colab_type": "code",
        "colab": {}
      },
      "source": [
        "import numpy as np\n",
        "import pandas as pd"
      ],
      "execution_count": 0,
      "outputs": []
    },
    {
      "cell_type": "markdown",
      "metadata": {
        "id": "H8zQO8iCQ9Ph",
        "colab_type": "text"
      },
      "source": [
        "Persisting Model to Disc"
      ]
    },
    {
      "cell_type": "code",
      "metadata": {
        "id": "Zwg444B0Q8OF",
        "colab_type": "code",
        "colab": {}
      },
      "source": [
        "from sklearn.externals import joblib"
      ],
      "execution_count": 0,
      "outputs": []
    },
    {
      "cell_type": "code",
      "metadata": {
        "id": "Tk8v65lrRtI7",
        "colab_type": "code",
        "colab": {}
      },
      "source": [
        "joblib.dump(NameModel,\"model.pkl\") #.pkl by pickle, but, could be .json or .joblib"
      ],
      "execution_count": 0,
      "outputs": []
    },
    {
      "cell_type": "markdown",
      "metadata": {
        "id": "K6txC3oiSlJm",
        "colab_type": "text"
      },
      "source": [
        "Loading Model"
      ]
    },
    {
      "cell_type": "code",
      "metadata": {
        "id": "9vDAkiHtSnWL",
        "colab_type": "code",
        "colab": {}
      },
      "source": [
        "model = joblib.load(\"model.pkl\")"
      ],
      "execution_count": 0,
      "outputs": []
    },
    {
      "cell_type": "code",
      "metadata": {
        "id": "TUMgwE27VM9B",
        "colab_type": "code",
        "colab": {}
      },
      "source": [
        "print(\"Model Attributes:\\n\\nClasses:{}\\nEstimator:{}\".format(model.classes_,model.estimator))"
      ],
      "execution_count": 0,
      "outputs": []
    },
    {
      "cell_type": "markdown",
      "metadata": {
        "id": "RZRWdkFPV5EW",
        "colab_type": "text"
      },
      "source": [
        "Predict"
      ]
    },
    {
      "cell_type": "code",
      "metadata": {
        "id": "b2-mIWK-YTbp",
        "colab_type": "code",
        "colab": {}
      },
      "source": [
        "varTest = np.array([[0,1,2]])"
      ],
      "execution_count": 0,
      "outputs": []
    },
    {
      "cell_type": "code",
      "metadata": {
        "id": "y0Mys62ZV6qK",
        "colab_type": "code",
        "colab": {}
      },
      "source": [
        "model.predict(varTest)"
      ],
      "execution_count": 0,
      "outputs": []
    },
    {
      "cell_type": "markdown",
      "metadata": {
        "id": "YgxZ7aHDYgfm",
        "colab_type": "text"
      },
      "source": [
        "Probability Class"
      ]
    },
    {
      "cell_type": "code",
      "metadata": {
        "id": "TiLqNNqrYQfr",
        "colab_type": "code",
        "colab": {}
      },
      "source": [
        "model.predict_proba(varTest)"
      ],
      "execution_count": 0,
      "outputs": []
    }
  ]
}