{
  "nbformat": 4,
  "nbformat_minor": 0,
  "metadata": {
    "colab": {
      "name": "DataVisualization.ipynb",
      "version": "0.3.2",
      "provenance": [],
      "include_colab_link": true
    },
    "kernelspec": {
      "name": "python3",
      "display_name": "Python 3"
    }
  },
  "cells": [
    {
      "cell_type": "markdown",
      "metadata": {
        "id": "view-in-github",
        "colab_type": "text"
      },
      "source": [
        "<a href=\"https://colab.research.google.com/github/vilsonrodrigues/DataScience/blob/master/DataVisualization.ipynb\" target=\"_parent\"><img src=\"https://colab.research.google.com/assets/colab-badge.svg\" alt=\"Open In Colab\"/></a>"
      ]
    },
    {
      "cell_type": "code",
      "metadata": {
        "id": "uQdZy8hRVkBU",
        "colab_type": "code",
        "colab": {}
      },
      "source": [
        "import matplotlib.pyplot as plt\n",
        "import pandas as pd\n",
        "dados = pd.read_csv(\"https://raw.githubusercontent.com/vilsonrodrigues/DataScience/master/populacao-brasileira.csv\",sep=\";\")"
      ],
      "execution_count": 0,
      "outputs": []
    },
    {
      "cell_type": "markdown",
      "metadata": {
        "id": "-h3Ij-wvYN-k",
        "colab_type": "text"
      },
      "source": [
        "Chamada dos valores"
      ]
    },
    {
      "cell_type": "code",
      "metadata": {
        "id": "bz-7Eo3YWXAN",
        "colab_type": "code",
        "colab": {
          "base_uri": "https://localhost:8080/",
          "height": 312
        },
        "outputId": "d445b9fe-f11a-4210-8095-70fa7df6241d"
      },
      "source": [
        "x = [1,2,3]\n",
        "y = [2,3,7]\n",
        "x1 = [2,3,4]\n",
        "y1 = [3,4,5]\n",
        "#Titulo\n",
        "plt.title(\"Grafico de linhas\")\n",
        "#Eixos\n",
        "plt.xlabel(\"Eixo X\")\n",
        "plt.ylabel(\"Eixo Y\")\n"
      ],
      "execution_count": 46,
      "outputs": [
        {
          "output_type": "execute_result",
          "data": {
            "text/plain": [
              "Text(0, 0.5, 'Eixo Y')"
            ]
          },
          "metadata": {
            "tags": []
          },
          "execution_count": 46
        },
        {
          "output_type": "display_data",
          "data": {
            "image/png": "[encoded data removed]",
            "text/plain": [
              "<Figure size 432x288 with 1 Axes>"
            ]
          },
          "metadata": {
            "tags": []
          }
        }
      ]
    },
    {
      "cell_type": "markdown",
      "metadata": {
        "id": "RyHU0i0NjJ2T",
        "colab_type": "text"
      },
      "source": [
        "Grafico de linhas"
      ]
    },
    {
      "cell_type": "code",
      "metadata": {
        "id": "x45hZa0Mmg9y",
        "colab_type": "code",
        "colab": {}
      },
      "source": [
        "plt.plot(x,y)\n",
        "plt.show()"
      ],
      "execution_count": 0,
      "outputs": []
    },
    {
      "cell_type": "markdown",
      "metadata": {
        "id": "RZb_p9JQeuSc",
        "colab_type": "text"
      },
      "source": [
        "Grafico de Barras"
      ]
    },
    {
      "cell_type": "code",
      "metadata": {
        "id": "nL_iKNaYeykt",
        "colab_type": "code",
        "colab": {}
      },
      "source": [
        "plt.bar(x,y)\n",
        "plt.show()"
      ],
      "execution_count": 0,
      "outputs": []
    },
    {
      "cell_type": "markdown",
      "metadata": {
        "id": "94JQlGpxpgRY",
        "colab_type": "text"
      },
      "source": [
        "Grafico com Barras duplas"
      ]
    },
    {
      "cell_type": "code",
      "metadata": {
        "id": "cNyqjegIpfNr",
        "colab_type": "code",
        "colab": {
          "base_uri": "https://localhost:8080/",
          "height": 269
        },
        "outputId": "4af9827e-3f40-44f2-f161-28065fd31fc7"
      },
      "source": [
        "plt.bar(x,y,label=\"N alunos\")\n",
        "plt.bar(x1,y1,label=\"Notas\")\n",
        "plt.legend()\n",
        "plt.show()"
      ],
      "execution_count": 13,
      "outputs": [
        {
          "output_type": "display_data",
          "data": {
            "image/png": "[encoded data removed]",
            "text/plain": [
              "<Figure size 432x288 with 1 Axes>"
            ]
          },
          "metadata": {
            "tags": []
          }
        }
      ]
    },
    {
      "cell_type": "markdown",
      "metadata": {
        "id": "ufX713HvsYuL",
        "colab_type": "text"
      },
      "source": [
        "Grafico de Dispersao"
      ]
    },
    {
      "cell_type": "code",
      "metadata": {
        "id": "miNE292SsSEC",
        "colab_type": "code",
        "colab": {
          "base_uri": "https://localhost:8080/",
          "height": 269
        },
        "outputId": "108a07ba-e03e-45a0-f2c5-f199b9d12ac9"
      },
      "source": [
        "plt.scatter(x,y)\n",
        "plt.show()"
      ],
      "execution_count": 14,
      "outputs": [
        {
          "output_type": "display_data",
          "data": {
            "image/png": "[encoded data removed]",
            "text/plain": [
              "<Figure size 432x288 with 1 Axes>"
            ]
          },
          "metadata": {
            "tags": []
          }
        }
      ]
    },
    {
      "cell_type": "markdown",
      "metadata": {
        "id": "07KRze7LtJfg",
        "colab_type": "text"
      },
      "source": [
        "Grafico de Dispersao com Linhas"
      ]
    },
    {
      "cell_type": "code",
      "metadata": {
        "id": "SASuMxm1D1__",
        "colab_type": "code",
        "colab": {
          "base_uri": "https://localhost:8080/",
          "height": 269
        },
        "outputId": "32c4cd3c-70dc-4532-ff65-671bb797edbc"
      },
      "source": [
        "plt.plot(x,y,label=\"Pontos\",linestyle=\"-.\",color=\"r\")\n",
        "plt.scatter(x,y,color=\"black\",marker=\"x\",s=100)\n",
        "plt.legend()\n",
        "plt.show()\n",
        "#plt.savafig(\"figura.jpg\",dpi=500) comando pra salvar o grafico, poderia ser .pdf pra ter uma resolucao melhor"
      ],
      "execution_count": 35,
      "outputs": [
        {
          "output_type": "display_data",
          "data": {
            "image/png": "[encoded data removed]",
            "text/plain": [
              "<Figure size 432x288 with 1 Axes>"
            ]
          },
          "metadata": {
            "tags": []
          }
        }
      ]
    },
    {
      "cell_type": "markdown",
      "metadata": {
        "id": "IdIaFosCV78j",
        "colab_type": "text"
      },
      "source": [
        "Manipulacao de linhas de dados do crescimento da populacao brasileira"
      ]
    },
    {
      "cell_type": "code",
      "metadata": {
        "id": "OtWqzL8bWB33",
        "colab_type": "code",
        "colab": {
          "base_uri": "https://localhost:8080/",
          "height": 295
        },
        "outputId": "44cb69a5-f694-448e-8c00-2978fe5a366b"
      },
      "source": [
        "plt.plot(dados[\"ano\"],dados[\"population\"],color=\"k\",linestyle=\"-\")\n",
        "plt.scatter(dados[\"ano\"],dados[\"population\"],marker=\"*\",color=\"r\",s=70)\n",
        "plt.title(\"evolucao da populacao brasileira\")\n",
        "plt.xlabel(\"Ano\")\n",
        "plt.ylabel(\"Populacao\")\n",
        "plt.show()\n"
      ],
      "execution_count": 56,
      "outputs": [
        {
          "output_type": "display_data",
          "data": {
            "image/png": "[encoded data removed]",
            "text/plain": [
              "<Figure size 432x288 with 1 Axes>"
            ]
          },
          "metadata": {
            "tags": []
          }
        }
      ]
    },
    {
      "cell_type": "markdown",
      "metadata": {
        "id": "S545mz2TaT1D",
        "colab_type": "text"
      },
      "source": [
        "Grafico de barras do crescimento da populacao brasileira"
      ]
    },
    {
      "cell_type": "code",
      "metadata": {
        "id": "BqHcRigAbXNx",
        "colab_type": "code",
        "colab": {
          "base_uri": "https://localhost:8080/",
          "height": 276
        },
        "outputId": "3dbaabc3-c900-42ac-d528-6fcfb7912239"
      },
      "source": [
        "plt.bar(dados[\"ano\"],dados[\"population\"],color=\"y\")\n",
        "plt.plot(dados[\"ano\"],dados[\"population\"],color=\"black\",linestyle=\"-.\")\n",
        "plt.show()"
      ],
      "execution_count": 74,
      "outputs": [
        {
          "output_type": "display_data",
          "data": {
            "image/png": "[encoded data removed]",
            "text/plain": [
              "<Figure size 432x288 with 1 Axes>"
            ]
          },
          "metadata": {
            "tags": []
          }
        }
      ]
    },
    {
      "cell_type": "markdown",
      "metadata": {
        "id": "omWTAdr5cdSp",
        "colab_type": "text"
      },
      "source": [
        "Box-plot"
      ]
    },
    {
      "cell_type": "code",
      "metadata": {
        "id": "u30oCj4adyjS",
        "colab_type": "code",
        "colab": {
          "base_uri": "https://localhost:8080/",
          "height": 281
        },
        "outputId": "e6b76ca8-632a-4d06-8fb3-69130fe28ca5"
      },
      "source": [
        "plt.boxplot(dados[\"population\"])\n",
        "plt.title(\"BoxPlot populacao\")\n",
        "plt.show()"
      ],
      "execution_count": 76,
      "outputs": [
        {
          "output_type": "display_data",
          "data": {
            "image/png": "[encoded data removed]",
            "text/plain": [
              "<Figure size 432x288 with 1 Axes>"
            ]
          },
          "metadata": {
            "tags": []
          }
        }
      ]
    }
  ]
}