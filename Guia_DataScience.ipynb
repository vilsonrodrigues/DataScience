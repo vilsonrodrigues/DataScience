{
  "nbformat": 4,
  "nbformat_minor": 0,
  "metadata": {
    "colab": {
      "name": "Guia DataScience.ipynb",
      "version": "0.3.2",
      "provenance": [],
      "collapsed_sections": [
        "dwNWJtkg2u1J",
        "eZKkISPy2zuT",
        "JC2mFSY65R3T"
      ],
      "include_colab_link": true
    },
    "kernelspec": {
      "name": "python3",
      "display_name": "Python 3"
    }
  },
  "cells": [
    {
      "cell_type": "markdown",
      "metadata": {
        "id": "view-in-github",
        "colab_type": "text"
      },
      "source": [
        "<a href=\"https://colab.research.google.com/github/vilsonrodrigues/DataScience/blob/master/Guia_DataScience.ipynb\" target=\"_parent\"><img src=\"https://colab.research.google.com/assets/colab-badge.svg\" alt=\"Open In Colab\"/></a>"
      ]
    },
    {
      "cell_type": "markdown",
      "metadata": {
        "id": "dwNWJtkg2u1J",
        "colab_type": "text"
      },
      "source": [
        "# Modelagem de Dados"
      ]
    },
    {
      "cell_type": "markdown",
      "metadata": {
        "id": "1OuXjJ7as3Um",
        "colab_type": "text"
      },
      "source": [
        "Importando bibliotecas"
      ]
    },
    {
      "cell_type": "code",
      "metadata": {
        "id": "8MX9qb7XsoCr",
        "colab_type": "code",
        "colab": {}
      },
      "source": [
        "import numpy as np\n",
        "import pandas as pd\n",
        "import datetime as dt\n",
        "import matplotlib.pyplot as plt\n",
        "import seaborn as sns"
      ],
      "execution_count": 0,
      "outputs": []
    },
    {
      "cell_type": "markdown",
      "metadata": {
        "id": "rt1P3C5Ttdyr",
        "colab_type": "text"
      },
      "source": [
        "Lendo a base de dados"
      ]
    },
    {
      "cell_type": "code",
      "metadata": {
        "id": "Wf21eQgAtdGy",
        "colab_type": "code",
        "outputId": "dd7e778d-653f-4687-b7ae-60c78ba38b0d",
        "colab": {
          "base_uri": "https://localhost:8080/",
          "height": 284
        }
      },
      "source": [
        "table = pd.read_csv(\"https://github.com/vilsonrodrigues/DataScienceEduc/raw/master/lopSubmissoes.csv\")\n",
        "table.head(2)"
      ],
      "execution_count": 0,
      "outputs": [
        {
          "output_type": "execute_result",
          "data": {
            "text/html": [
              "<div>\n",
              "<style scoped>\n",
              "    .dataframe tbody tr th:only-of-type {\n",
              "        vertical-align: middle;\n",
              "    }\n",
              "\n",
              "    .dataframe tbody tr th {\n",
              "        vertical-align: top;\n",
              "    }\n",
              "\n",
              "    .dataframe thead th {\n",
              "        text-align: right;\n",
              "    }\n",
              "</style>\n",
              "<table border=\"1\" class=\"dataframe\">\n",
              "  <thead>\n",
              "    <tr style=\"text-align: right;\">\n",
              "      <th></th>\n",
              "      <th>Unnamed: 0</th>\n",
              "      <th>ano</th>\n",
              "      <th>data</th>\n",
              "      <th>idAluno</th>\n",
              "      <th>idLista</th>\n",
              "      <th>idTurma</th>\n",
              "      <th>matricula</th>\n",
              "      <th>porcentagemAcerto</th>\n",
              "      <th>quantidade</th>\n",
              "      <th>questao</th>\n",
              "      <th>titulo</th>\n",
              "    </tr>\n",
              "  </thead>\n",
              "  <tbody>\n",
              "    <tr>\n",
              "      <th>0</th>\n",
              "      <td>0</td>\n",
              "      <td>2017.2</td>\n",
              "      <td>2017-08-14 16:19:03.629000+00:00</td>\n",
              "      <td>5991cd63b3c8b42f3d5da402</td>\n",
              "      <td>598cd57a3bc48946977dcf67</td>\n",
              "      <td>598e15296d8650eb27d52e3d</td>\n",
              "      <td>2.017010e+10</td>\n",
              "      <td>0.0</td>\n",
              "      <td>5.0</td>\n",
              "      <td>59885f8d684f4a3f78163c00</td>\n",
              "      <td>Lista de Laboratório 1 - Expressões Aritmética...</td>\n",
              "    </tr>\n",
              "    <tr>\n",
              "      <th>1</th>\n",
              "      <td>1</td>\n",
              "      <td>2017.2</td>\n",
              "      <td>2017-08-14 16:19:43.260000+00:00</td>\n",
              "      <td>5991cd63b3c8b42f3d5da402</td>\n",
              "      <td>598cd57a3bc48946977dcf67</td>\n",
              "      <td>598e15296d8650eb27d52e3d</td>\n",
              "      <td>2.017010e+10</td>\n",
              "      <td>0.0</td>\n",
              "      <td>5.0</td>\n",
              "      <td>59885f8d684f4a3f78163c00</td>\n",
              "      <td>Lista de Laboratório 1 - Expressões Aritmética...</td>\n",
              "    </tr>\n",
              "  </tbody>\n",
              "</table>\n",
              "</div>"
            ],
            "text/plain": [
              "   Unnamed: 0  ...                                             titulo\n",
              "0           0  ...  Lista de Laboratório 1 - Expressões Aritmética...\n",
              "1           1  ...  Lista de Laboratório 1 - Expressões Aritmética...\n",
              "\n",
              "[2 rows x 11 columns]"
            ]
          },
          "metadata": {
            "tags": []
          },
          "execution_count": 2
        }
      ]
    },
    {
      "cell_type": "markdown",
      "metadata": {
        "id": "U4LxkuJat5gR",
        "colab_type": "text"
      },
      "source": [
        "Apagando coluna que não me interessa"
      ]
    },
    {
      "cell_type": "code",
      "metadata": {
        "id": "oU25TrH4t7u-",
        "colab_type": "code",
        "colab": {}
      },
      "source": [
        "table = table.drop(columns=[\"Unnamed: 0\"])"
      ],
      "execution_count": 0,
      "outputs": []
    },
    {
      "cell_type": "markdown",
      "metadata": {
        "id": "tX_5pso9uEal",
        "colab_type": "text"
      },
      "source": [
        "Substituindo os valores nulos NaN por 0"
      ]
    },
    {
      "cell_type": "code",
      "metadata": {
        "id": "H0JPsXyFua_v",
        "colab_type": "code",
        "colab": {}
      },
      "source": [
        "table.replace(np.nan, 0, inplace=True) #onde inplace=True quer dizer substitua em. Ou seja, seria pra table receber as alterações sem precisar colocar direto"
      ],
      "execution_count": 0,
      "outputs": []
    },
    {
      "cell_type": "markdown",
      "metadata": {
        "id": "D6JY2EWiumCS",
        "colab_type": "text"
      },
      "source": [
        "Passando os valores de objeto para o tipo DateTime"
      ]
    },
    {
      "cell_type": "code",
      "metadata": {
        "id": "2IQ2L2YFulqM",
        "colab_type": "code",
        "colab": {}
      },
      "source": [
        "table[\"data\"] = pd.to_datetime(table[\"data\"])\n",
        "table[\"data\"] = table[\"data\"].dt.tz_localize(None) #codigo para resolver o problema do fuso horario"
      ],
      "execution_count": 0,
      "outputs": []
    },
    {
      "cell_type": "markdown",
      "metadata": {
        "id": "UJfUBZi5vtI8",
        "colab_type": "text"
      },
      "source": [
        "Pegando apenas os dias da tabela data"
      ]
    },
    {
      "cell_type": "code",
      "metadata": {
        "id": "5VJaN4Qfvs4-",
        "colab_type": "code",
        "colab": {}
      },
      "source": [
        "table[\"dia\"] = table[\"data\"].dt.day\n",
        "table.head(1)"
      ],
      "execution_count": 0,
      "outputs": []
    },
    {
      "cell_type": "markdown",
      "metadata": {
        "id": "e9ol55RNwdO3",
        "colab_type": "text"
      },
      "source": [
        "Usando o loc para separar por turno as submissões"
      ]
    },
    {
      "cell_type": "code",
      "metadata": {
        "id": "2ldA-p-rw9Pn",
        "colab_type": "code",
        "colab": {}
      },
      "source": [
        "table[\"turno\"]=1\n",
        "table.loc[table[\"data\"].dt.hour <6, \"turno\"]=0\n",
        "table.loc[(table[\"data\"].dt.hour >12) & (table[\"data\"].dt.hour <=18), \"turno\"]=2\n",
        "table.loc[table[\"data\"].dt.hour >18, \"turno\"]=3\n",
        "table.head(2)"
      ],
      "execution_count": 0,
      "outputs": []
    },
    {
      "cell_type": "markdown",
      "metadata": {
        "id": "OEu5zNTrxMfj",
        "colab_type": "text"
      },
      "source": [
        "Ordenando valores pela data"
      ]
    },
    {
      "cell_type": "code",
      "metadata": {
        "id": "3Odorg6exPE4",
        "colab_type": "code",
        "colab": {}
      },
      "source": [
        "table.sort_values(by=\"data\")"
      ],
      "execution_count": 0,
      "outputs": []
    },
    {
      "cell_type": "markdown",
      "metadata": {
        "id": "9iPVzbDdxX8g",
        "colab_type": "text"
      },
      "source": [
        "Trabalhando com time delta"
      ]
    },
    {
      "cell_type": "markdown",
      "metadata": {
        "id": "GwqYVyO-x8W0",
        "colab_type": "text"
      },
      "source": [
        "Criando uma variável que tem um intervalo de 7 dias"
      ]
    },
    {
      "cell_type": "code",
      "metadata": {
        "id": "VH-OUE7RxYhi",
        "colab_type": "code",
        "colab": {}
      },
      "source": [
        "t = pd.Timedelta(\"7 days\")"
      ],
      "execution_count": 0,
      "outputs": []
    },
    {
      "cell_type": "markdown",
      "metadata": {
        "id": "XI6NPOIPyCvO",
        "colab_type": "text"
      },
      "source": [
        "Vamos usar ela para fazer buscas entre intervalos de dias específicos"
      ]
    },
    {
      "cell_type": "code",
      "metadata": {
        "id": "FxCmLvJ8ycwB",
        "colab_type": "code",
        "colab": {}
      },
      "source": [
        "d = pd.to_datetime(\"2019/02/11\")"
      ],
      "execution_count": 0,
      "outputs": []
    },
    {
      "cell_type": "markdown",
      "metadata": {
        "id": "BczIZ64sy2_M",
        "colab_type": "text"
      },
      "source": [
        "Criando os intervalos de semanas a partir da data de início do semestre, a cada 7 dias, ao total, 3 semanas"
      ]
    },
    {
      "cell_type": "code",
      "metadata": {
        "id": "EtJ4Wmuby33t",
        "colab_type": "code",
        "colab": {}
      },
      "source": [
        "d11 = d+t\n",
        "d12 = d11+t\n",
        "d13 = d12+t\n",
        "d14 = d13+t  "
      ],
      "execution_count": 0,
      "outputs": []
    },
    {
      "cell_type": "markdown",
      "metadata": {
        "id": "J6-OZDvMzaYT",
        "colab_type": "text"
      },
      "source": [
        "Buscando as submissões entre as semanas"
      ]
    },
    {
      "cell_type": "code",
      "metadata": {
        "id": "8VpuVVtszEgk",
        "colab_type": "code",
        "colab": {}
      },
      "source": [
        "v11 = table.loc[(table[\"data\"]>d11) & (table[\"data\"]<=d12),:]\n",
        "v12 = table.loc[(table[\"data\"]>d12) & (table[\"data\"]<=d13),:]\n",
        "v13 = table.loc[(table[\"data\"]>d13) & (table[\"data\"]<=d14),:]"
      ],
      "execution_count": 0,
      "outputs": []
    },
    {
      "cell_type": "markdown",
      "metadata": {
        "id": "tFvW7CDzzENc",
        "colab_type": "text"
      },
      "source": [
        "Contando a quantidade de submissões dos alunos por semana"
      ]
    },
    {
      "cell_type": "code",
      "metadata": {
        "id": "yr5vifsuz_gs",
        "colab_type": "code",
        "colab": {}
      },
      "source": [
        "s11 = v11.groupby([\"idAluno\"])[\"questao\"].count().reset_index().sort_values(by=\"idAluno\")\n",
        "s11.rename(columns={\"questao\":\"qsemana1\"},inplace=True)\n",
        "s12 = v12.groupby([\"idAluno\"])[\"questao\"].count().reset_index().sort_values(by=\"idAluno\")\n",
        "s12.rename(columns={\"questao\":\"qsemana2\"},inplace=True)\n",
        "s13 = v13.groupby([\"idAluno\"])[\"questao\"].count().reset_index().sort_values(by=\"idAluno\")\n",
        "s13.rename(columns={\"questao\":\"qsemana3\"},inplace=True)"
      ],
      "execution_count": 0,
      "outputs": []
    },
    {
      "cell_type": "markdown",
      "metadata": {
        "id": "NbGXUxdl0jWv",
        "colab_type": "text"
      },
      "source": [
        "Criando um dataframe novo para amarzenar os resultados"
      ]
    },
    {
      "cell_type": "code",
      "metadata": {
        "id": "YNyku6KD0m8k",
        "colab_type": "code",
        "colab": {}
      },
      "source": [
        "prov1 = pd.DataFrame()\n",
        "prov1[\"idAluno\"]=0 #esse sera o atributo que vai relacionar as 2 tabelas para depois juntar\n",
        "prov1[\"qsemana1\"]=0\n",
        "prov1[\"qsemana2\"]=0\n",
        "prov1[\"qsemana3\"]=0"
      ],
      "execution_count": 0,
      "outputs": []
    },
    {
      "cell_type": "markdown",
      "metadata": {
        "id": "o_1Jjefm05-L",
        "colab_type": "text"
      },
      "source": [
        "Concatenação das tabelas"
      ]
    },
    {
      "cell_type": "code",
      "metadata": {
        "id": "hyyhJSci03Ib",
        "colab_type": "code",
        "colab": {}
      },
      "source": [
        "prov1 = prov1.append(s11,sort=False,ignore_index=True)\n",
        "prov1 = prov1.append(s12,sort=False,ignore_index=True)\n",
        "prov1 = prov1.append(s13,sort=False,ignore_index=True)"
      ],
      "execution_count": 0,
      "outputs": []
    },
    {
      "cell_type": "code",
      "metadata": {
        "id": "MQTVKB001INu",
        "colab_type": "code",
        "colab": {}
      },
      "source": [
        "prov1.head()"
      ],
      "execution_count": 0,
      "outputs": []
    },
    {
      "cell_type": "markdown",
      "metadata": {
        "id": "ws0fKxvx1KjF",
        "colab_type": "text"
      },
      "source": [
        "Como terão dados como NaN por causa das buscas, vamos substituir eles por 0"
      ]
    },
    {
      "cell_type": "code",
      "metadata": {
        "id": "EX876X5j1XFd",
        "colab_type": "code",
        "colab": {}
      },
      "source": [
        "prov1.replace(np.nan, 0, inplace=True)"
      ],
      "execution_count": 0,
      "outputs": []
    },
    {
      "cell_type": "markdown",
      "metadata": {
        "id": "CUOPiu0C1X96",
        "colab_type": "text"
      },
      "source": [
        "Agora vamos somar os dados para ficar apenas 1 linha pra cada aluno"
      ]
    },
    {
      "cell_type": "code",
      "metadata": {
        "id": "jZBlw2dU1kCi",
        "colab_type": "code",
        "colab": {}
      },
      "source": [
        "prov1 = prov1.groupby([\"idAluno\"]).sum()"
      ],
      "execution_count": 0,
      "outputs": []
    },
    {
      "cell_type": "code",
      "metadata": {
        "id": "R4dUnu221pQo",
        "colab_type": "code",
        "colab": {}
      },
      "source": [
        "prov1.head()"
      ],
      "execution_count": 0,
      "outputs": []
    },
    {
      "cell_type": "markdown",
      "metadata": {
        "id": "a83yqAh62G9y",
        "colab_type": "text"
      },
      "source": [
        "Ler outro .CSV, que contém as notas dos alunos"
      ]
    },
    {
      "cell_type": "code",
      "metadata": {
        "id": "qrT4tQkn2Gdl",
        "colab_type": "code",
        "colab": {}
      },
      "source": [
        "nota=pd.read_csv(\"https://raw.githubusercontent.com/vilsonrodrigues/DataScienceEduc/master/lopNotaProvaSubmissoesLista.csv\")\n",
        "nota=nota.drop(columns=[\"Unnamed: 0\"])"
      ],
      "execution_count": 0,
      "outputs": []
    },
    {
      "cell_type": "markdown",
      "metadata": {
        "id": "S_iR1Nqa2XSa",
        "colab_type": "text"
      },
      "source": [
        "Juntando as tabelas"
      ]
    },
    {
      "cell_type": "code",
      "metadata": {
        "id": "FxkGu9-m2Wxn",
        "colab_type": "code",
        "colab": {}
      },
      "source": [
        "df = pd.merge(nota,prov1,on=\"idAluno\")"
      ],
      "execution_count": 0,
      "outputs": []
    },
    {
      "cell_type": "code",
      "metadata": {
        "id": "CnvA6iKq2hi7",
        "colab_type": "code",
        "colab": {}
      },
      "source": [
        "df.head()"
      ],
      "execution_count": 0,
      "outputs": []
    },
    {
      "cell_type": "markdown",
      "metadata": {
        "id": "eZKkISPy2zuT",
        "colab_type": "text"
      },
      "source": [
        "#Cluster"
      ]
    },
    {
      "cell_type": "code",
      "metadata": {
        "id": "eseWDwls3PTB",
        "colab_type": "code",
        "colab": {}
      },
      "source": [
        "from sklearn.cluster import KMeans"
      ],
      "execution_count": 0,
      "outputs": []
    },
    {
      "cell_type": "markdown",
      "metadata": {
        "id": "MriXwW4b3XKH",
        "colab_type": "text"
      },
      "source": [
        "Selecionando as tabelas que eu quero trabalhar"
      ]
    },
    {
      "cell_type": "code",
      "metadata": {
        "id": "Ia7bvk063S2h",
        "colab_type": "code",
        "colab": {}
      },
      "source": [
        "x = table.iloc[:,24:32]\n",
        "x.head(1)"
      ],
      "execution_count": 0,
      "outputs": []
    },
    {
      "cell_type": "markdown",
      "metadata": {
        "id": "q82ywdXh3iXV",
        "colab_type": "text"
      },
      "source": [
        "Escolhendo a quantidade de grupos e depois treinando"
      ]
    },
    {
      "cell_type": "code",
      "metadata": {
        "id": "2pfdlpPV3dOR",
        "colab_type": "code",
        "colab": {}
      },
      "source": [
        "kmeans = KMeans(2)\n",
        "kmeans.fit(x)"
      ],
      "execution_count": 0,
      "outputs": []
    },
    {
      "cell_type": "markdown",
      "metadata": {
        "id": "XfFOf0yA3qRW",
        "colab_type": "text"
      },
      "source": [
        "Treinando o Kmeans"
      ]
    },
    {
      "cell_type": "code",
      "metadata": {
        "id": "WMnkks7m3mY1",
        "colab_type": "code",
        "colab": {}
      },
      "source": [
        "identified_clusters = kmeans.fit_predict(x)\n",
        "identified_clusters"
      ],
      "execution_count": 0,
      "outputs": []
    },
    {
      "cell_type": "markdown",
      "metadata": {
        "id": "LTTzM08r32NU",
        "colab_type": "text"
      },
      "source": [
        "Inserindo os dados na tabela"
      ]
    },
    {
      "cell_type": "code",
      "metadata": {
        "id": "CHUzC3YD3t0S",
        "colab_type": "code",
        "colab": {}
      },
      "source": [
        "table_clusters = df.copy()\n",
        "table_clusters[\"cluster\"] = identified_clusters\n",
        "table_clusters.head(2)"
      ],
      "execution_count": 0,
      "outputs": []
    },
    {
      "cell_type": "markdown",
      "metadata": {
        "id": "mAA_1qHW4Bgt",
        "colab_type": "text"
      },
      "source": [
        "Exibindo os gráficos "
      ]
    },
    {
      "cell_type": "code",
      "metadata": {
        "id": "YCmA7YJQ3_b3",
        "colab_type": "code",
        "colab": {}
      },
      "source": [
        "plt.scatter(\"ano\",\"qsemana8\",data=table_clusters,c=table_clusters[\"cluster\"],cmap=\"rainbow\")\n",
        "plt.show()"
      ],
      "execution_count": 0,
      "outputs": []
    },
    {
      "cell_type": "markdown",
      "metadata": {
        "id": "JC2mFSY65R3T",
        "colab_type": "text"
      },
      "source": [
        "# Brincando com Gráficos"
      ]
    },
    {
      "cell_type": "markdown",
      "metadata": {
        "id": "mqpm3G_A56mg",
        "colab_type": "text"
      },
      "source": [
        "Gráfico de distribuição hexadecimal"
      ]
    },
    {
      "cell_type": "code",
      "metadata": {
        "id": "UWymqyyz5T-w",
        "colab_type": "code",
        "colab": {}
      },
      "source": [
        "sns.jointplot(\"ano\",\"subp1\",data=df,kind=\"hex\")"
      ],
      "execution_count": 0,
      "outputs": []
    },
    {
      "cell_type": "markdown",
      "metadata": {
        "id": "TQI9eT3N6hw-",
        "colab_type": "text"
      },
      "source": [
        "Gráfico histograma dividindo por ano"
      ]
    },
    {
      "cell_type": "code",
      "metadata": {
        "id": "eZBIgKl355vb",
        "colab_type": "code",
        "colab": {}
      },
      "source": [
        "g = sns.FacetGrid(tips, col=\"ano\", margin_titles=True)#separe por\n",
        "g.map(plt.hist, \"mediaProvas\", color=\"husl\",data=df)#os dados"
      ],
      "execution_count": 0,
      "outputs": []
    },
    {
      "cell_type": "markdown",
      "metadata": {
        "id": "elDkczY475xN",
        "colab_type": "text"
      },
      "source": [
        "Boxplot"
      ]
    },
    {
      "cell_type": "code",
      "metadata": {
        "id": "PwSGL2Fy7ocw",
        "colab_type": "code",
        "colab": {}
      },
      "source": [
        "x = sns.FacetGrid(tips,col=\"ano\",size=5,aspect=0.4)\n",
        "x = x.map(sns.boxplot,\"mediaProvas\",data=df,color=\"r\")"
      ],
      "execution_count": 0,
      "outputs": []
    }
  ]
}