{
  "nbformat": 4,
  "nbformat_minor": 0,
  "metadata": {
    "colab": {
      "name": "CrossValidation.ipynb",
      "provenance": [],
      "include_colab_link": true
    },
    "kernelspec": {
      "name": "python3",
      "display_name": "Python 3"
    }
  },
  "cells": [
    {
      "cell_type": "markdown",
      "metadata": {
        "id": "view-in-github",
        "colab_type": "text"
      },
      "source": [
        "<a href=\"https://colab.research.google.com/github/vilsonrodrigues/DataScience/blob/master/CrossValidation.ipynb\" target=\"_parent\"><img src=\"https://colab.research.google.com/assets/colab-badge.svg\" alt=\"Open In Colab\"/></a>"
      ]
    },
    {
      "cell_type": "markdown",
      "metadata": {
        "id": "ClziYmzhPl_P",
        "colab_type": "text"
      },
      "source": [
        "Import libs"
      ]
    },
    {
      "cell_type": "code",
      "metadata": {
        "id": "Gfsg1_1oGM6y",
        "colab_type": "code",
        "colab": {}
      },
      "source": [
        "import pandas as pd\n",
        "import numpy as np\n",
        "import matplotlib.pyplot as plt\n",
        "from sklearn.model_selection import train_test_split\n",
        "from sklearn.model_selection import cross_val_score\n",
        "from sklearn import datasets\n",
        "from sklearn import svm"
      ],
      "execution_count": 0,
      "outputs": []
    },
    {
      "cell_type": "code",
      "metadata": {
        "id": "jk33tO2uMghu",
        "colab_type": "code",
        "colab": {
          "base_uri": "https://localhost:8080/",
          "height": 35
        },
        "outputId": "e0fd63e2-a2a3-42c1-9aa5-df5a4265cf73"
      },
      "source": [
        "data = datasets.load_wine()\n",
        "data.target_names"
      ],
      "execution_count": 12,
      "outputs": [
        {
          "output_type": "execute_result",
          "data": {
            "text/plain": [
              "array(['class_0', 'class_1', 'class_2'], dtype='<U7')"
            ]
          },
          "metadata": {
            "tags": []
          },
          "execution_count": 12
        }
      ]
    },
    {
      "cell_type": "markdown",
      "metadata": {
        "id": "888mi9cVUxQj",
        "colab_type": "text"
      },
      "source": [
        "**SVM**"
      ]
    },
    {
      "cell_type": "code",
      "metadata": {
        "id": "Om7-yck5U0Qy",
        "colab_type": "code",
        "colab": {}
      },
      "source": [
        "model = svm.SVC(gamma = \"auto\")"
      ],
      "execution_count": 0,
      "outputs": []
    },
    {
      "cell_type": "markdown",
      "metadata": {
        "id": "Iz3huHKOPkmY",
        "colab_type": "text"
      },
      "source": [
        "**Cross Validation**"
      ]
    },
    {
      "cell_type": "markdown",
      "metadata": {
        "id": "kHO_GLnmRxnQ",
        "colab_type": "text"
      },
      "source": [
        "Cross-Validation analyzes the generalizability of the model. It partitions the database into mutually exclusive K-sets, hence a subset is used for testing and the remaining k-1 is used for parameter estimation."
      ]
    },
    {
      "cell_type": "markdown",
      "metadata": {
        "id": "SD-udxQSVU7M",
        "colab_type": "text"
      },
      "source": [
        "Number subets"
      ]
    },
    {
      "cell_type": "code",
      "metadata": {
        "id": "K1LEADHcVQpW",
        "colab_type": "code",
        "colab": {}
      },
      "source": [
        "kfolds = 5"
      ],
      "execution_count": 0,
      "outputs": []
    },
    {
      "cell_type": "markdown",
      "metadata": {
        "id": "MNFdbsgLV1Qv",
        "colab_type": "text"
      },
      "source": [
        "Running Cross Validation"
      ]
    },
    {
      "cell_type": "code",
      "metadata": {
        "id": "Il7DwZw4Uhep",
        "colab_type": "code",
        "colab": {}
      },
      "source": [
        "scores = cross_val_score(model, data.data, data.target, cv = kfolds, scoring = \"accuracy\") "
      ],
      "execution_count": 0,
      "outputs": []
    },
    {
      "cell_type": "code",
      "metadata": {
        "id": "IYWdctn7V-eJ",
        "colab_type": "code",
        "colab": {
          "base_uri": "https://localhost:8080/",
          "height": 35
        },
        "outputId": "1fd35560-bb40-4f0b-bb8c-e1113ee9c4a0"
      },
      "source": [
        "scores"
      ],
      "execution_count": 18,
      "outputs": [
        {
          "output_type": "execute_result",
          "data": {
            "text/plain": [
              "array([0.37837838, 0.41666667, 0.44444444, 0.42857143, 0.47058824])"
            ]
          },
          "metadata": {
            "tags": []
          },
          "execution_count": 18
        }
      ]
    },
    {
      "cell_type": "markdown",
      "metadata": {
        "id": "iJaFQvfQWL5L",
        "colab_type": "text"
      },
      "source": [
        "Mean Scores"
      ]
    },
    {
      "cell_type": "code",
      "metadata": {
        "id": "tcAIbJVcWOsk",
        "colab_type": "code",
        "colab": {
          "base_uri": "https://localhost:8080/",
          "height": 35
        },
        "outputId": "2a8aea43-27bc-41d2-dfbd-a036c7b7a585"
      },
      "source": [
        "scores.mean()"
      ],
      "execution_count": 19,
      "outputs": [
        {
          "output_type": "execute_result",
          "data": {
            "text/plain": [
              "0.42772983067100717"
            ]
          },
          "metadata": {
            "tags": []
          },
          "execution_count": 19
        }
      ]
    }
  ]
}